version https://git-lfs.github.com/spec/v1
oid sha256:302822600555805f77ed658c11cd8d6d92b228cec04cc68758a40d21542521a6
size 20974
